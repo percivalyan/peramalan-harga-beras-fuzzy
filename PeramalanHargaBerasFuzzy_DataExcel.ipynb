{
  "cells": [
    {
      "cell_type": "markdown",
      "metadata": {
        "id": "view-in-github",
        "colab_type": "text"
      },
      "source": [
        "<a href=\"https://colab.research.google.com/github/percivalyan/peramalan-harga-beras-fuzzy/blob/main/PeramalanHargaBerasFuzzy_DataExcel.ipynb\" target=\"_parent\"><img src=\"https://colab.research.google.com/assets/colab-badge.svg\" alt=\"Open In Colab\"/></a>"
      ]
    },
    {
      "cell_type": "code",
      "execution_count": null,
      "metadata": {
        "colab": {
          "base_uri": "https://localhost:8080/",
          "height": 296
        },
        "id": "sGurawV0D6hH",
        "outputId": "f7542089-53cb-4531-ca32-4f4d24f00fa1"
      },
      "outputs": [
        {
          "output_type": "display_data",
          "data": {
            "text/plain": [
              "<IPython.core.display.HTML object>"
            ],
            "text/html": [
              "\n",
              "     <input type=\"file\" id=\"files-3d46de8f-b42d-40ee-94d2-7c0f2108548f\" name=\"files[]\" multiple disabled\n",
              "        style=\"border:none\" />\n",
              "     <output id=\"result-3d46de8f-b42d-40ee-94d2-7c0f2108548f\">\n",
              "      Upload widget is only available when the cell has been executed in the\n",
              "      current browser session. Please rerun this cell to enable.\n",
              "      </output>\n",
              "      <script>// Copyright 2017 Google LLC\n",
              "//\n",
              "// Licensed under the Apache License, Version 2.0 (the \"License\");\n",
              "// you may not use this file except in compliance with the License.\n",
              "// You may obtain a copy of the License at\n",
              "//\n",
              "//      http://www.apache.org/licenses/LICENSE-2.0\n",
              "//\n",
              "// Unless required by applicable law or agreed to in writing, software\n",
              "// distributed under the License is distributed on an \"AS IS\" BASIS,\n",
              "// WITHOUT WARRANTIES OR CONDITIONS OF ANY KIND, either express or implied.\n",
              "// See the License for the specific language governing permissions and\n",
              "// limitations under the License.\n",
              "\n",
              "/**\n",
              " * @fileoverview Helpers for google.colab Python module.\n",
              " */\n",
              "(function(scope) {\n",
              "function span(text, styleAttributes = {}) {\n",
              "  const element = document.createElement('span');\n",
              "  element.textContent = text;\n",
              "  for (const key of Object.keys(styleAttributes)) {\n",
              "    element.style[key] = styleAttributes[key];\n",
              "  }\n",
              "  return element;\n",
              "}\n",
              "\n",
              "// Max number of bytes which will be uploaded at a time.\n",
              "const MAX_PAYLOAD_SIZE = 100 * 1024;\n",
              "\n",
              "function _uploadFiles(inputId, outputId) {\n",
              "  const steps = uploadFilesStep(inputId, outputId);\n",
              "  const outputElement = document.getElementById(outputId);\n",
              "  // Cache steps on the outputElement to make it available for the next call\n",
              "  // to uploadFilesContinue from Python.\n",
              "  outputElement.steps = steps;\n",
              "\n",
              "  return _uploadFilesContinue(outputId);\n",
              "}\n",
              "\n",
              "// This is roughly an async generator (not supported in the browser yet),\n",
              "// where there are multiple asynchronous steps and the Python side is going\n",
              "// to poll for completion of each step.\n",
              "// This uses a Promise to block the python side on completion of each step,\n",
              "// then passes the result of the previous step as the input to the next step.\n",
              "function _uploadFilesContinue(outputId) {\n",
              "  const outputElement = document.getElementById(outputId);\n",
              "  const steps = outputElement.steps;\n",
              "\n",
              "  const next = steps.next(outputElement.lastPromiseValue);\n",
              "  return Promise.resolve(next.value.promise).then((value) => {\n",
              "    // Cache the last promise value to make it available to the next\n",
              "    // step of the generator.\n",
              "    outputElement.lastPromiseValue = value;\n",
              "    return next.value.response;\n",
              "  });\n",
              "}\n",
              "\n",
              "/**\n",
              " * Generator function which is called between each async step of the upload\n",
              " * process.\n",
              " * @param {string} inputId Element ID of the input file picker element.\n",
              " * @param {string} outputId Element ID of the output display.\n",
              " * @return {!Iterable<!Object>} Iterable of next steps.\n",
              " */\n",
              "function* uploadFilesStep(inputId, outputId) {\n",
              "  const inputElement = document.getElementById(inputId);\n",
              "  inputElement.disabled = false;\n",
              "\n",
              "  const outputElement = document.getElementById(outputId);\n",
              "  outputElement.innerHTML = '';\n",
              "\n",
              "  const pickedPromise = new Promise((resolve) => {\n",
              "    inputElement.addEventListener('change', (e) => {\n",
              "      resolve(e.target.files);\n",
              "    });\n",
              "  });\n",
              "\n",
              "  const cancel = document.createElement('button');\n",
              "  inputElement.parentElement.appendChild(cancel);\n",
              "  cancel.textContent = 'Cancel upload';\n",
              "  const cancelPromise = new Promise((resolve) => {\n",
              "    cancel.onclick = () => {\n",
              "      resolve(null);\n",
              "    };\n",
              "  });\n",
              "\n",
              "  // Wait for the user to pick the files.\n",
              "  const files = yield {\n",
              "    promise: Promise.race([pickedPromise, cancelPromise]),\n",
              "    response: {\n",
              "      action: 'starting',\n",
              "    }\n",
              "  };\n",
              "\n",
              "  cancel.remove();\n",
              "\n",
              "  // Disable the input element since further picks are not allowed.\n",
              "  inputElement.disabled = true;\n",
              "\n",
              "  if (!files) {\n",
              "    return {\n",
              "      response: {\n",
              "        action: 'complete',\n",
              "      }\n",
              "    };\n",
              "  }\n",
              "\n",
              "  for (const file of files) {\n",
              "    const li = document.createElement('li');\n",
              "    li.append(span(file.name, {fontWeight: 'bold'}));\n",
              "    li.append(span(\n",
              "        `(${file.type || 'n/a'}) - ${file.size} bytes, ` +\n",
              "        `last modified: ${\n",
              "            file.lastModifiedDate ? file.lastModifiedDate.toLocaleDateString() :\n",
              "                                    'n/a'} - `));\n",
              "    const percent = span('0% done');\n",
              "    li.appendChild(percent);\n",
              "\n",
              "    outputElement.appendChild(li);\n",
              "\n",
              "    const fileDataPromise = new Promise((resolve) => {\n",
              "      const reader = new FileReader();\n",
              "      reader.onload = (e) => {\n",
              "        resolve(e.target.result);\n",
              "      };\n",
              "      reader.readAsArrayBuffer(file);\n",
              "    });\n",
              "    // Wait for the data to be ready.\n",
              "    let fileData = yield {\n",
              "      promise: fileDataPromise,\n",
              "      response: {\n",
              "        action: 'continue',\n",
              "      }\n",
              "    };\n",
              "\n",
              "    // Use a chunked sending to avoid message size limits. See b/62115660.\n",
              "    let position = 0;\n",
              "    do {\n",
              "      const length = Math.min(fileData.byteLength - position, MAX_PAYLOAD_SIZE);\n",
              "      const chunk = new Uint8Array(fileData, position, length);\n",
              "      position += length;\n",
              "\n",
              "      const base64 = btoa(String.fromCharCode.apply(null, chunk));\n",
              "      yield {\n",
              "        response: {\n",
              "          action: 'append',\n",
              "          file: file.name,\n",
              "          data: base64,\n",
              "        },\n",
              "      };\n",
              "\n",
              "      let percentDone = fileData.byteLength === 0 ?\n",
              "          100 :\n",
              "          Math.round((position / fileData.byteLength) * 100);\n",
              "      percent.textContent = `${percentDone}% done`;\n",
              "\n",
              "    } while (position < fileData.byteLength);\n",
              "  }\n",
              "\n",
              "  // All done.\n",
              "  yield {\n",
              "    response: {\n",
              "      action: 'complete',\n",
              "    }\n",
              "  };\n",
              "}\n",
              "\n",
              "scope.google = scope.google || {};\n",
              "scope.google.colab = scope.google.colab || {};\n",
              "scope.google.colab._files = {\n",
              "  _uploadFiles,\n",
              "  _uploadFilesContinue,\n",
              "};\n",
              "})(self);\n",
              "</script> "
            ]
          },
          "metadata": {}
        },
        {
          "output_type": "stream",
          "name": "stdout",
          "text": [
            "Saving harga_beras.xlsx to harga_beras (6).xlsx\n",
            "   Periode  Tahun      Bulan    Harga  \\\n",
            "0        1   2021        Mei  8710.44   \n",
            "1        2   2021       Juni  8694.95   \n",
            "2        3   2021      Juli   8481.43   \n",
            "3        4   2021    Agustus  8688.77   \n",
            "4        5   2021  September  8588.59   \n",
            "\n",
            "                                               Fuzzy  \n",
            "0  [0.4823384750850058, 0.5176615249149944, 0, 0,...  \n",
            "1  [0.4969729578566576, 0.5030270421433427, 0, 0,...  \n",
            "2  [0.6987001858362019, 0.30129981416379836, 0, 0...  \n",
            "3  [0.5028116346499961, 0.4971883653500041, 0, 0,...  \n",
            "4  [0.5974586639633661, 0.4025413360366341, 0, 0,...  \n"
          ]
        }
      ],
      "source": [
        "# Install library yang diperlukan\n",
        "!pip install -q gspread oauth2client gspread_dataframe openpyxl\n",
        "\n",
        "# Import libraries\n",
        "import pandas as pd\n",
        "import numpy as np\n",
        "import matplotlib.pyplot as plt\n",
        "\n",
        "# Upload file xlsx yang telah diunduh ke Google Colab\n",
        "from google.colab import files\n",
        "uploaded = files.upload()\n",
        "\n",
        "# Periksa data yang dibaca\n",
        "print(df.head())"
      ]
    },
    {
      "cell_type": "code",
      "execution_count": null,
      "metadata": {
        "colab": {
          "base_uri": "https://localhost:8080/"
        },
        "id": "PWBTUgpKQAmh",
        "outputId": "16e94cd6-6173-45dd-c0f6-b720ce546eea"
      },
      "outputs": [
        {
          "output_type": "stream",
          "name": "stdout",
          "text": [
            "Nilai Maksimum Harga: 13675.0\n",
            "Nilai Minimum Harga: 8481.43\n"
          ]
        }
      ],
      "source": [
        "# 1. Penentuan Nilai Maksimum dan Minimum Data\n",
        "harga_max = df['Harga'].max()\n",
        "harga_min = df['Harga'].min()\n",
        "print(f\"Nilai Maksimum Harga: {harga_max}\")\n",
        "print(f\"Nilai Minimum Harga: {harga_min}\")"
      ]
    },
    {
      "cell_type": "code",
      "execution_count": null,
      "metadata": {
        "colab": {
          "base_uri": "https://localhost:8080/",
          "height": 487
        },
        "id": "BNdNPSK8RuDE",
        "outputId": "3abd1b9c-6b8a-4a8d-f951-aa88e3225d0a"
      },
      "outputs": [
        {
          "output_type": "display_data",
          "data": {
            "text/plain": [
              "<Figure size 1000x500 with 1 Axes>"
            ],
            "image/png": "[encoded data removed]"
          },
          "metadata": {}
        }
      ],
      "source": [
        "# 2. Time Series Plot Data Aktual\n",
        "plt.figure(figsize=(10,5))\n",
        "plt.plot(df['Periode'], df['Harga'], marker='o', linestyle='-', color='b')\n",
        "plt.title('Time Series Plot Data Aktual Harga Beras')\n",
        "plt.xlabel('Periode')\n",
        "plt.ylabel('Harga')\n",
        "plt.grid(True)\n",
        "plt.show()"
      ]
    },
    {
      "cell_type": "code",
      "execution_count": null,
      "metadata": {
        "colab": {
          "base_uri": "https://localhost:8080/"
        },
        "id": "8PSXluVxRvdd",
        "outputId": "19004a76-eca9-4b61-89c1-4687a4743b84"
      },
      "outputs": [
        {
          "output_type": "stream",
          "name": "stdout",
          "text": [
            "Semesta Pembicaraan U: [7633.287, 15042.5]\n"
          ]
        }
      ],
      "source": [
        "# 3. Penentuan Semesta Pembicaraan U\n",
        "U_max = harga_max + (0.1 * harga_max)\n",
        "U_min = harga_min - (0.1 * harga_min)\n",
        "print(f\"Semesta Pembicaraan U: [{U_min}, {U_max}]\")"
      ]
    },
    {
      "cell_type": "code",
      "execution_count": null,
      "metadata": {
        "colab": {
          "base_uri": "https://localhost:8080/"
        },
        "id": "KY_i9US0R0aD",
        "outputId": "bd055d6b-d98c-4abb-fc58-24781529323a"
      },
      "outputs": [
        {
          "output_type": "stream",
          "name": "stdout",
          "text": [
            "Panjang Interval: 1058.459\n"
          ]
        }
      ],
      "source": [
        "# 4. Menghitung Panjang Interval\n",
        "num_intervals = 7  # Contoh jumlah interval\n",
        "interval_length = (U_max - U_min) / num_intervals\n",
        "print(f\"Panjang Interval: {interval_length}\")"
      ]
    },
    {
      "cell_type": "code",
      "execution_count": null,
      "metadata": {
        "colab": {
          "base_uri": "https://localhost:8080/"
        },
        "id": "uZLiOMk8R20L",
        "outputId": "d86ac8b8-b67b-4270-c7d2-9da0ac573b2d"
      },
      "outputs": [
        {
          "output_type": "stream",
          "name": "stdout",
          "text": [
            "Rata-Rata Selisih Absolut: 227.9451428571429\n"
          ]
        }
      ],
      "source": [
        "# 5. Rata-Rata Selisih Absolut\n",
        "mean_abs_diff = df['Harga'].diff().abs().mean()\n",
        "print(f\"Rata-Rata Selisih Absolut: {mean_abs_diff}\")"
      ]
    },
    {
      "cell_type": "code",
      "execution_count": null,
      "metadata": {
        "colab": {
          "base_uri": "https://localhost:8080/"
        },
        "id": "Y_6WnS0QR4dM",
        "outputId": "2df15a3e-61aa-4d84-ff18-6c517e24c7dc"
      },
      "outputs": [
        {
          "output_type": "stream",
          "name": "stdout",
          "text": [
            "Basis Interval: [7633.287, 8691.746000000001, 9750.205, 10808.664, 11867.123, 12925.582, 13984.041000000001, 15042.5]\n"
          ]
        }
      ],
      "source": [
        "# 6. Menghitung Basis Interval\n",
        "intervals = [U_min + i * interval_length for i in range(num_intervals + 1)]\n",
        "print(f\"Basis Interval: {intervals}\")"
      ]
    },
    {
      "cell_type": "code",
      "execution_count": null,
      "metadata": {
        "colab": {
          "base_uri": "https://localhost:8080/"
        },
        "id": "AJ7110TUR4al",
        "outputId": "06c6c8a5-81d8-4db5-b63a-25c516bc3f5b"
      },
      "outputs": [
        {
          "output_type": "stream",
          "name": "stdout",
          "text": [
            "Banyaknya Himpunan Fuzzy: 7\n"
          ]
        }
      ],
      "source": [
        "# 7. Menghitung Banyaknya Himpunan Fuzzy\n",
        "num_fuzzy_sets = num_intervals\n",
        "print(f\"Banyaknya Himpunan Fuzzy: {num_fuzzy_sets}\")"
      ]
    },
    {
      "cell_type": "code",
      "execution_count": null,
      "metadata": {
        "colab": {
          "base_uri": "https://localhost:8080/"
        },
        "id": "WEGjCDkPR4YT",
        "outputId": "1044d74b-2b61-42b3-944a-e7a773527102"
      },
      "outputs": [
        {
          "output_type": "stream",
          "name": "stdout",
          "text": [
            "Nilai Tengah Himpunan Fuzzy: [8162.516500000001, 9220.9755, 10279.4345, 11337.8935, 12396.3525, 13454.8115, 14513.2705]\n"
          ]
        }
      ],
      "source": [
        "# 8. Menentukan Nilai Tengah Himpunan Fuzzy\n",
        "fuzzy_centers = [(intervals[i] + intervals[i + 1]) / 2 for i in range(num_intervals)]\n",
        "print(f\"Nilai Tengah Himpunan Fuzzy: {fuzzy_centers}\")"
      ]
    },
    {
      "cell_type": "code",
      "execution_count": null,
      "metadata": {
        "colab": {
          "base_uri": "https://localhost:8080/"
        },
        "id": "w1eVns2uR4WJ",
        "outputId": "f81dc84b-66f5-43ac-f807-5662fc44acc4"
      },
      "outputs": [
        {
          "output_type": "stream",
          "name": "stdout",
          "text": [
            "Data Fuzzyfikasi:\n",
            "       Harga                                              Fuzzy\n",
            "0    8710.44  [0.4823384750850058, 0.5176615249149944, 0, 0,...\n",
            "1    8694.95  [0.4969729578566576, 0.5030270421433427, 0, 0,...\n",
            "2    8481.43  [0.6987001858362019, 0.30129981416379836, 0, 0...\n",
            "3    8688.77  [0.5028116346499961, 0.4971883653500041, 0, 0,...\n",
            "4    8588.59  [0.5974586639633661, 0.4025413360366341, 0, 0,...\n",
            "5    8630.83  [0.5575515915118117, 0.44244840848818845, 0, 0...\n",
            "6    8711.19  [0.4816298978042609, 0.5183701021957394, 0, 0,...\n",
            "7    8888.50  [0.3141127809390828, 0.6858872190609173, 0, 0,...\n",
            "8    9038.14  [0.17273744188485451, 0.8272625581151456, 0, 0...\n",
            "9    9061.74  [0.15044087678408036, 0.8495591232159199, 0, 0...\n",
            "10   9061.05  [0.15109276788236614, 0.8489072321176341, 0, 0...\n",
            "11   8853.24  [0.3474253608311715, 0.6525746391688287, 0, 0,...\n",
            "12   8902.12  [0.30124501752075405, 0.6987549824792461, 0, 0...\n",
            "13   8848.66  [0.3517524060922538, 0.6482475939077464, 0, 0,...\n",
            "14   8905.52  [0.2980328005147108, 0.7019671994852894, 0, 0,...\n",
            "15   9069.27  [0.14332676088540064, 0.8566732391145996, 0, 0...\n",
            "16   9465.63  [0, 0.7688578395573199, 0.2311421604426812, 0,...\n",
            "17   9516.09  [0, 0.7211847601088, 0.27881523989120105, 0, 0...\n",
            "18   9542.12  [0, 0.696592404618412, 0.3034075953815891, 0, ...\n",
            "19   9806.58  [0, 0.4467386077306732, 0.5532613922693279, 0,...\n",
            "20  10227.61  [0, 0.04896221771462095, 0.9510377822853802, 0...\n",
            "21  10467.91  [0, 0, 0.8219340569639444, 0.17806594303605505...\n",
            "22  10475.91  [0, 0, 0.8143758993026651, 0.18562410069733426...\n",
            "23  10564.51  [0, 0, 0.7306693032039968, 0.26933069679600263...\n",
            "24  10428.81  [0, 0, 0.8588745525334471, 0.1411254474665522,...\n",
            "25  10315.48  [0, 0, 0.9659453035025446, 0.03405469649745474...\n",
            "26  10302.59  [0, 0, 0.9781233850342802, 0.02187661496571913...\n",
            "27  10526.23  [0, 0, 0.7668350876132187, 0.23316491238678072...\n",
            "28  11745.50  [0, 0, 0, 0.6149057261547213, 0.38509427384527...\n",
            "29  12381.31  [0, 0, 0, 0.01421169832747482, 0.9857883016725...\n",
            "30  12534.91  [0, 0, 0, 0, 0.8690950712309131, 0.13090492876...\n",
            "31  12530.28  [0, 0, 0, 0, 0.8734693549773778, 0.12653064502...\n",
            "32  13014.62  [0, 0, 0, 0, 0.4158795947693771, 0.58412040523...\n",
            "33  13675.00  [0, 0, 0, 0, 0, 0.7919725752249258, 0.20802742...\n",
            "34  13531.07  [0, 0, 0, 0, 0, 0.9279532792484169, 0.07204672...\n",
            "35  12376.88  [0, 0, 0, 0.01839702813240851, 0.9816029718675...\n"
          ]
        }
      ],
      "source": [
        "# 9. Mendefinisikan Derajat Keanggotaan Himpunan Fuzzy\n",
        "def fuzzy_membership(x, centers, length):\n",
        "    memberships = []\n",
        "    for c in centers:\n",
        "        membership = max(1 - abs(x - c) / length, 0)\n",
        "        memberships.append(membership)\n",
        "    return memberships\n",
        "\n",
        "# 10. Fuzzyfikasi Data\n",
        "df['Fuzzy'] = df['Harga'].apply(lambda x: fuzzy_membership(x, fuzzy_centers, interval_length))\n",
        "print(\"Data Fuzzyfikasi:\")\n",
        "print(df[['Harga', 'Fuzzy']])"
      ]
    },
    {
      "cell_type": "code",
      "execution_count": null,
      "metadata": {
        "id": "NybjduyaR4Tj",
        "colab": {
          "base_uri": "https://localhost:8080/"
        },
        "outputId": "2988462d-b5ce-4c33-eed9-df7be15e040e"
      },
      "outputs": [
        {
          "output_type": "stream",
          "name": "stdout",
          "text": [
            "Fuzzy Logical Relationship: [(1, 1), (1, 0), (0, 0), (0, 0), (0, 0), (0, 1), (1, 1), (1, 1), (1, 1), (1, 1), (1, 1), (1, 1), (1, 1), (1, 1), (1, 1), (1, 1), (1, 1), (1, 1), (1, 2), (2, 2), (2, 2), (2, 2), (2, 2), (2, 2), (2, 2), (2, 2), (2, 2), (2, 3), (3, 4), (4, 4), (4, 4), (4, 5), (5, 5), (5, 5), (5, 4)]\n"
          ]
        }
      ],
      "source": [
        "# 11. Fuzzy Logical Relationship\n",
        "flr = []\n",
        "for i in range(len(df) - 1):\n",
        "    current_state = np.argmax(df['Fuzzy'].iloc[i])\n",
        "    next_state = np.argmax(df['Fuzzy'].iloc[i + 1])\n",
        "    flr.append((current_state, next_state))\n",
        "print(f\"Fuzzy Logical Relationship: {flr}\")"
      ]
    },
    {
      "cell_type": "code",
      "execution_count": null,
      "metadata": {
        "id": "j299cddrR4RU",
        "colab": {
          "base_uri": "https://localhost:8080/"
        },
        "outputId": "d9d48f6a-7273-413e-d71a-57249e84897a"
      },
      "outputs": [
        {
          "output_type": "stream",
          "name": "stdout",
          "text": [
            "Fuzzy Logical Relationship Group: {1: [1, 0, 1, 1, 1, 1, 1, 1, 1, 1, 1, 1, 1, 1, 2], 0: [0, 0, 0, 1], 2: [2, 2, 2, 2, 2, 2, 2, 2, 3], 3: [4], 4: [4, 4, 5], 5: [5, 5, 4]}\n"
          ]
        }
      ],
      "source": [
        "# 12. Fuzzy Logical Relationship Group\n",
        "flrg = {}\n",
        "for i, (cur, next_) in enumerate(flr):\n",
        "    if cur in flrg:\n",
        "        flrg[cur].append(next_)\n",
        "    else:\n",
        "        flrg[cur] = [next_]\n",
        "print(f\"Fuzzy Logical Relationship Group: {flrg}\")"
      ]
    },
    {
      "cell_type": "code",
      "execution_count": null,
      "metadata": {
        "id": "W0TWKuTxR4OO",
        "colab": {
          "base_uri": "https://localhost:8080/"
        },
        "outputId": "a250020a-40f4-40e5-9a9f-42999351250a"
      },
      "outputs": [
        {
          "output_type": "stream",
          "name": "stdout",
          "text": [
            "Defuzzyfikasi: {1: 9220.9755, 0: 8427.13125, 2: 10397.041055555555, 3: 12396.3525, 4: 12749.172166666665, 5: 13101.991833333333}\n"
          ]
        }
      ],
      "source": [
        "# 13. Defuzzyfikasi\n",
        "def defuzzify(flrg, centers):\n",
        "    defuzzified = {}\n",
        "    for key, values in flrg.items():\n",
        "        defuzzified[key] = np.mean([centers[v] for v in values])\n",
        "    return defuzzified\n",
        "\n",
        "defuzzified_values = defuzzify(flrg, fuzzy_centers)\n",
        "print(f\"Defuzzyfikasi: {defuzzified_values}\")"
      ]
    },
    {
      "cell_type": "code",
      "execution_count": null,
      "metadata": {
        "id": "FK8cH1PFR4LL",
        "colab": {
          "base_uri": "https://localhost:8080/"
        },
        "outputId": "3d814608-3824-4205-f0ac-4f358e29ec61"
      },
      "outputs": [
        {
          "output_type": "stream",
          "name": "stdout",
          "text": [
            "Data dengan Hasil Peramalan:\n",
            "       Harga      Forecast\n",
            "0    8710.44           NaN\n",
            "1    8694.95   9220.975500\n",
            "2    8481.43   9220.975500\n",
            "3    8688.77   8427.131250\n",
            "4    8588.59   8427.131250\n",
            "5    8630.83   8427.131250\n",
            "6    8711.19   8427.131250\n",
            "7    8888.50   9220.975500\n",
            "8    9038.14   9220.975500\n",
            "9    9061.74   9220.975500\n",
            "10   9061.05   9220.975500\n",
            "11   8853.24   9220.975500\n",
            "12   8902.12   9220.975500\n",
            "13   8848.66   9220.975500\n",
            "14   8905.52   9220.975500\n",
            "15   9069.27   9220.975500\n",
            "16   9465.63   9220.975500\n",
            "17   9516.09   9220.975500\n",
            "18   9542.12   9220.975500\n",
            "19   9806.58   9220.975500\n",
            "20  10227.61  10397.041056\n",
            "21  10467.91  10397.041056\n",
            "22  10475.91  10397.041056\n",
            "23  10564.51  10397.041056\n",
            "24  10428.81  10397.041056\n",
            "25  10315.48  10397.041056\n",
            "26  10302.59  10397.041056\n",
            "27  10526.23  10397.041056\n",
            "28  11745.50  10397.041056\n",
            "29  12381.31  12396.352500\n",
            "30  12534.91  12749.172167\n",
            "31  12530.28  12749.172167\n",
            "32  13014.62  12749.172167\n",
            "33  13675.00  13101.991833\n",
            "34  13531.07  13101.991833\n",
            "35  12376.88  13101.991833\n"
          ]
        }
      ],
      "source": [
        "# 14. Defuzzyfikasi Nilai Peramalan\n",
        "forecasted_prices = []\n",
        "for i in range(len(df) - 1):\n",
        "    current_state = np.argmax(df['Fuzzy'].iloc[i])\n",
        "    forecasted_price = defuzzified_values.get(current_state, np.mean(fuzzy_centers))\n",
        "    forecasted_prices.append(forecasted_price)\n",
        "forecasted_prices.insert(0, np.nan)  # Tambahkan nilai NaN untuk periode pertama karena tidak ada data sebelumnya\n",
        "df['Forecast'] = forecasted_prices\n",
        "print(\"Data dengan Hasil Peramalan:\")\n",
        "print(df[['Harga', 'Forecast']])"
      ]
    },
    {
      "cell_type": "code",
      "source": [
        "# 15. Time Series Plot Perbandingan Hasil Peramalan dengan Data Aktual\n",
        "plt.figure(figsize=(10,5))\n",
        "plt.plot(df['Periode'], df['Harga'], marker='o', linestyle='-', color='b', label='Aktual')\n",
        "plt.plot(df['Periode'], df['Forecast'], marker='x', linestyle='--', color='r', label='Peramalan')\n",
        "plt.title('Perbandingan Hasil Peramalan dengan Data Aktual')\n",
        "plt.xlabel('Periode')\n",
        "plt.ylabel('Harga')\n",
        "plt.legend()\n",
        "plt.grid(True)\n",
        "plt.show()"
      ],
      "metadata": {
        "colab": {
          "base_uri": "https://localhost:8080/",
          "height": 487
        },
        "id": "v3rKKxNrnUMe",
        "outputId": "29150710-1983-4fdf-d688-7d6559dc1347"
      },
      "execution_count": null,
      "outputs": [
        {
          "output_type": "display_data",
          "data": {
            "text/plain": [
              "<Figure size 1000x500 with 1 Axes>"
            ],
            "image/png": "[encoded data removed]"
          },
          "metadata": {}
        }
      ]
    },
    {
      "cell_type": "code",
      "source": [
        "# 16. MAPE Hasil peramalan\n",
        "mape = np.mean(np.abs((df['Harga'][1:] - df['Forecast'][1:]) / df['Harga'][1:])) * 100\n",
        "print(f\"MAPE Hasil Peramalan: {mape}%\")"
      ],
      "metadata": {
        "colab": {
          "base_uri": "https://localhost:8080/"
        },
        "id": "KmwqwdaWnUJ_",
        "outputId": "5c628f85-8a0d-4771-d7f3-373997897d24"
      },
      "execution_count": null,
      "outputs": [
        {
          "output_type": "stream",
          "name": "stdout",
          "text": [
            "MAPE Hasil Peramalan: 2.9993441957633005%\n"
          ]
        }
      ]
    },
    {
      "cell_type": "code",
      "source": [
        "# 17. MAD (Mean Absolute Deviation)\n",
        "mad = np.mean(np.abs(df['Harga'] - df['Forecast']))\n",
        "print(f\"MAD (Mean Absolute Deviation): {mad}\")"
      ],
      "metadata": {
        "colab": {
          "base_uri": "https://localhost:8080/"
        },
        "id": "2UR8Cf9NnUF-",
        "outputId": "38e415bd-9742-41c0-a116-efc42c46f72b"
      },
      "execution_count": null,
      "outputs": [
        {
          "output_type": "stream",
          "name": "stdout",
          "text": [
            "MAD (Mean Absolute Deviation): 302.7540904761905\n"
          ]
        }
      ]
    },
    {
      "cell_type": "code",
      "source": [
        "# 18. Tabel Data dengan Hasil Peramalan\n",
        "print(\"\\nTabel Data dengan Hasil Peramalan:\")\n",
        "print(df[['Periode', 'Harga', 'Forecast']])"
      ],
      "metadata": {
        "colab": {
          "base_uri": "https://localhost:8080/"
        },
        "id": "npu5AYhdnUDG",
        "outputId": "f27cbad8-4484-4b2b-f632-d0fe82ff6bc1"
      },
      "execution_count": null,
      "outputs": [
        {
          "output_type": "stream",
          "name": "stdout",
          "text": [
            "\n",
            "Tabel Data dengan Hasil Peramalan:\n",
            "    Periode     Harga      Forecast\n",
            "0         1   8710.44           NaN\n",
            "1         2   8694.95   9220.975500\n",
            "2         3   8481.43   9220.975500\n",
            "3         4   8688.77   8427.131250\n",
            "4         5   8588.59   8427.131250\n",
            "5         6   8630.83   8427.131250\n",
            "6         7   8711.19   8427.131250\n",
            "7         8   8888.50   9220.975500\n",
            "8         9   9038.14   9220.975500\n",
            "9        10   9061.74   9220.975500\n",
            "10       11   9061.05   9220.975500\n",
            "11       12   8853.24   9220.975500\n",
            "12       13   8902.12   9220.975500\n",
            "13       14   8848.66   9220.975500\n",
            "14       15   8905.52   9220.975500\n",
            "15       16   9069.27   9220.975500\n",
            "16       17   9465.63   9220.975500\n",
            "17       18   9516.09   9220.975500\n",
            "18       19   9542.12   9220.975500\n",
            "19       20   9806.58   9220.975500\n",
            "20       21  10227.61  10397.041056\n",
            "21       22  10467.91  10397.041056\n",
            "22       23  10475.91  10397.041056\n",
            "23       24  10564.51  10397.041056\n",
            "24       25  10428.81  10397.041056\n",
            "25       26  10315.48  10397.041056\n",
            "26       27  10302.59  10397.041056\n",
            "27       28  10526.23  10397.041056\n",
            "28       29  11745.50  10397.041056\n",
            "29       30  12381.31  12396.352500\n",
            "30       31  12534.91  12749.172167\n",
            "31       32  12530.28  12749.172167\n",
            "32       33  13014.62  12749.172167\n",
            "33       34  13675.00  13101.991833\n",
            "34       35  13531.07  13101.991833\n",
            "35       36  12376.88  13101.991833\n"
          ]
        }
      ]
    }
  ],
  "metadata": {
    "colab": {
      "provenance": [],
      "authorship_tag": "ABX9TyM+j5AGxFrRtmgfsKcrf4rY",
      "include_colab_link": true
    },
    "kernelspec": {
      "display_name": "Python 3",
      "name": "python3"
    },
    "language_info": {
      "name": "python"
    }
  },
  "nbformat": 4,
  "nbformat_minor": 0
}